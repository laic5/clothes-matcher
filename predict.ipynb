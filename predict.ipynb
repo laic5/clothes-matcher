{
 "cells": [
  {
   "cell_type": "code",
   "execution_count": 1,
   "metadata": {
    "collapsed": true
   },
   "outputs": [],
   "source": [
    "import os\n",
    "import numpy as np\n",
    "import pandas as pd\n",
    "from tqdm import tqdm \n",
    "from PIL import Image"
   ]
  },
  {
   "cell_type": "code",
   "execution_count": 8,
   "metadata": {},
   "outputs": [],
   "source": [
    "import tensorflow as tf\n",
    "import keras\n",
    "\n",
    "from keras.applications import ResNet50\n",
    "from keras.models import Model\n",
    "from keras.layers import Dense, GlobalAveragePooling2D\n",
    "from keras.optimizers import SGD\n",
    "from keras.models import load_model\n",
    "\n",
    "from tqdm import tqdm\n",
    "\n",
    "from sklearn.metrics.pairwise import cosine_similarity\n",
    "import pickle\n",
    "\n",
    "import argparse"
   ]
  },
  {
   "cell_type": "code",
   "execution_count": 4,
   "metadata": {
    "collapsed": true
   },
   "outputs": [],
   "source": [
    "def remove_softmax(model):\n",
    "    model.layers.pop() # Get rid of the classification layer\n",
    "    model.outputs = [model.layers[-1].output]\n",
    "    model.layers[-1].outbound_nodes = []\n",
    "    \n",
    "    return model"
   ]
  },
  {
   "cell_type": "code",
   "execution_count": 5,
   "metadata": {
    "collapsed": true
   },
   "outputs": [],
   "source": [
    "def get_cnn_output(model, ims):\n",
    "    # ims is np array\n",
    "    if len(ims.shape) == 1:\n",
    "        ims = ims.reshape(1, -1)\n",
    "    \n",
    "    return (model.predict(ims))"
   ]
  },
  {
   "cell_type": "code",
   "execution_count": null,
   "metadata": {
    "collapsed": true
   },
   "outputs": [],
   "source": [
    "parser = argparse.ArgumentParser()\n",
    "parser.add_argument('--model', dest='model', type=str)\n",
    "parser.add_argument('--fname', dest='fname', type=str)\n",
    "parser.add_argument('--dir', dest='dir', type=str)\n",
    "\n",
    "args = parser.parse_args()"
   ]
  },
  {
   "cell_type": "code",
   "execution_count": 6,
   "metadata": {
    "collapsed": true
   },
   "outputs": [],
   "source": [
    "#model2 = ResNet50(weights='imagenet') # using imagenet for now -- comment this, and uncomment next after implementing argparse\n",
    "model2 = load_model(args.model)\n",
    "\n",
    "model2 = remove_softmax(model2)"
   ]
  },
  {
   "cell_type": "code",
   "execution_count": 10,
   "metadata": {
    "collapsed": true
   },
   "outputs": [],
   "source": [
    "# load images from image directory\n",
    "\n",
    "def read_images_from_dir(directory):\n",
    "    '''\n",
    "    Reads in all images in a directory.\n",
    "    Can deal with 1 nested directory\n",
    "    Converts file --> PIL image --> np array\n",
    "    '''\n",
    "    directory_contents_list  = os.listdir(directory)\n",
    "\n",
    "    ims = []\n",
    "    try:\n",
    "        if os.path.isdir(os.path.join(directory, directory_contents_list[0])): # there's another directory\n",
    "            # go down another layer\n",
    "            for direc in directory_contents_list:\n",
    "                # list all the images in the directory\n",
    "                images_list = os.listdir(os.path.join(directory, direc))\n",
    "\n",
    "                # open the images and resize\n",
    "                ims.extend([np.array(Image.open(os.path.join(directory, direc, im)), dtype=np.float64).resize((224,224)) for im in images_list])\n",
    "\n",
    "        else: # directly open up the images\n",
    "            ims = [np.array(Image.open(os.path.join(directory, file)), dtype=np.float64).resize((224,224)) for file in directory_contents_list]\n",
    "    except:\n",
    "        print(\"Issue loading the images!\")\n",
    "        \n",
    "    return ims"
   ]
  },
  {
   "cell_type": "code",
   "execution_count": null,
   "metadata": {
    "collapsed": true
   },
   "outputs": [],
   "source": [
    "directory = args.dir\n",
    "image_list = read_images_from_dir(directory)\n",
    "preds = get_cnn_output(model2, image_list)"
   ]
  },
  {
   "cell_type": "code",
   "execution_count": null,
   "metadata": {
    "collapsed": true
   },
   "outputs": [],
   "source": [
    "#cPickle.dump(preds, open(args.fname, \"wb\"))\n",
    "\n",
    "f = open(args.fname, 'wb')   # 'wb' instead 'w' for binary file\n",
    "pickle.dump(preds)       # -1 specifies highest binary protocol\n",
    "f.close() "
   ]
  }
 ],
 "metadata": {
  "kernelspec": {
   "display_name": "Python 3",
   "language": "python",
   "name": "python3"
  },
  "language_info": {
   "codemirror_mode": {
    "name": "ipython",
    "version": 3
   },
   "file_extension": ".py",
   "mimetype": "text/x-python",
   "name": "python",
   "nbconvert_exporter": "python",
   "pygments_lexer": "ipython3",
   "version": "3.6.0"
  }
 },
 "nbformat": 4,
 "nbformat_minor": 2
}
