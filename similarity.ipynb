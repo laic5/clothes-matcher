{
 "cells": [
  {
   "cell_type": "code",
   "execution_count": null,
   "metadata": {
    "collapsed": true
   },
   "outputs": [],
   "source": [
    "import os\n",
    "import numpy as np\n",
    "import pandas as pd\n",
    "\n",
    "from sklearn.metrics.pairwise import cosine_similarity"
   ]
  },
  {
   "cell_type": "code",
   "execution_count": null,
   "metadata": {
    "collapsed": true
   },
   "outputs": [],
   "source": [
    "def get_top_k_indices(google_cnn_output, user_selected_ids, k):\n",
    "    \n",
    "    '''\n",
    "    NOTE: user_selected_imgs NEEDS TO BE A LIST! Even if it's only 1 item.\n",
    "    It does not handle 0 items at this moment.\n",
    "    \n",
    "    Both google_cnn_output and user_selected_imgs are output from the CNN and a np.array\n",
    "    '''\n",
    "    \n",
    "    user_selected_imgs = google_cnn_output.loc[user_selected_ids]\n",
    "    \n",
    "    if len(google_cnn_output.shape) == 1:\n",
    "        google_cnn_output = google_cnn_output.reshape(1, -1)\n",
    "    if len(user_selected_imgs.shape) == 1:\n",
    "        user_selected_imgs = user_selected_imgs.reshape(1, -1)\n",
    "        \n",
    "    similarity_results = np.zeros((len(user_selected_imgs), len(google_cnn_output)))\n",
    "\n",
    "    for idx, img in enumerate(user_selected_imgs):\n",
    "        similarity_results[idx,:] = cosine_similarity(img.reshape(1, -1), google_cnn_output)\n",
    "        \n",
    "    print(similarity_results)\n",
    "        \n",
    "    if similarity_results.shape[0] == 1:\n",
    "        sorted_indices = np.argsort(similarity_results[0])\n",
    "    \n",
    "    else:\n",
    "        means = np.mean(similarity_results, axis=0)\n",
    "        sorted_indices = np.argsort(means)\n",
    "    \n",
    "    if k > len(google_cnn_output):\n",
    "        return (sorted_indices)\n",
    "    \n",
    "    top_indices = sorted_indices[-k:]\n",
    "\n",
    "    return(list(reversed(top_indices)))"
   ]
  },
  {
   "cell_type": "code",
   "execution_count": null,
   "metadata": {
    "collapsed": true
   },
   "outputs": [],
   "source": [
    "output = get_top_k_indices(google_cnn_output, user_selected_ids, 5)\n",
    "print(output)"
   ]
  }
 ],
 "metadata": {
  "kernelspec": {
   "display_name": "Python 3",
   "language": "python",
   "name": "python3"
  },
  "language_info": {
   "codemirror_mode": {
    "name": "ipython",
    "version": 3
   },
   "file_extension": ".py",
   "mimetype": "text/x-python",
   "name": "python",
   "nbconvert_exporter": "python",
   "pygments_lexer": "ipython3",
   "version": "3.6.0"
  }
 },
 "nbformat": 4,
 "nbformat_minor": 2
}
